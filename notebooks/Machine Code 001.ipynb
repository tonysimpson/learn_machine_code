{
 "cells": [
  {
   "cell_type": "markdown",
   "id": "surface-rabbit",
   "metadata": {},
   "source": [
    "Write A Function In Machine Code - Basically a String but more complicated\n",
    "\n",
    "Linux memory == files?\n",
    "\n",
    "memory mapped file - https://man7.org/linux/man-pages/man2/mmap.2.html\n",
    "\n",
    "memory with code in must be marked \"executable\"\n",
    "\n",
    "Code from https://github.com/tonysimpson/pointbreak >"
   ]
  },
  {
   "cell_type": "code",
   "execution_count": 1,
   "id": "fossil-impact",
   "metadata": {},
   "outputs": [],
   "source": [
    "import ctypes\n",
    "import mmap\n",
    "\n",
    "\n",
    "def create_callable_from_machine_code(machine_code, doc=None, restype=None, argtypes=None, use_errno=False, use_last_error=False):\n",
    "    if argtypes is None:\n",
    "        argtypes = []\n",
    "    exec_code = mmap.mmap(-1, len(machine_code), prot=mmap.PROT_WRITE | mmap.PROT_READ | mmap.PROT_EXEC)\n",
    "    exec_code.write(machine_code)\n",
    "    c_type = ctypes.c_byte * len(machine_code)\n",
    "    c_var = c_type.from_buffer(exec_code)\n",
    "    address = ctypes.addressof(c_var)\n",
    "    c_func_factory = ctypes.CFUNCTYPE(restype, *argtypes, use_errno=use_errno, use_last_error=use_last_error)\n",
    "    func = c_func_factory(address)\n",
    "    func._exec_code = exec_code # prevent GC of code\n",
    "    func.__doc__ = doc\n",
    "    return func\n"
   ]
  },
  {
   "cell_type": "markdown",
   "id": "suburban-nowhere",
   "metadata": {},
   "source": [
    "linux x86_64 calling convention\n",
    "\n",
    "The calling convention of the System V AMD64 ABI is followed on GNU/Linux. The registers RDI, RSI, RDX, RCX, R8, and R9 are used for integer and memory address arguments and XMM0, XMM1, XMM2, XMM3, XMM4, XMM5, XMM6 and XMM7 are used for floating point arguments.\n",
    "\n",
    "For system calls, R10 is used instead of RCX. Additional arguments are passed on the stack and the return value is stored in RAX.\n",
    "\n",
    "https://www.felixcloutier.com/x86/\n",
    "\n",
    "RET in hex C3"
   ]
  },
  {
   "cell_type": "code",
   "execution_count": 12,
   "id": "occupied-young",
   "metadata": {},
   "outputs": [],
   "source": [
    "just_return = create_callable_from_machine_code(b'\\xC3')"
   ]
  },
  {
   "cell_type": "code",
   "execution_count": 13,
   "id": "sublime-river",
   "metadata": {},
   "outputs": [],
   "source": [
    "just_return()"
   ]
  },
  {
   "cell_type": "code",
   "execution_count": 14,
   "id": "developed-bridge",
   "metadata": {},
   "outputs": [],
   "source": [
    "import distorm3"
   ]
  },
  {
   "cell_type": "code",
   "execution_count": 20,
   "id": "handed-spectacular",
   "metadata": {},
   "outputs": [
    {
     "name": "stdout",
     "output_type": "stream",
     "text": [
      "MOV RAX, 0x15\n",
      "RET\n"
     ]
    }
   ],
   "source": [
    "return_21_code = b'\\x48\\xB8\\x15\\x00\\x00\\x00\\x00\\x00\\x00\\x00\\xC3'\n",
    "for offset, length, assembler, hex in distorm3.Decode(0, return_21_code, distorm3.Decode64Bits):\n",
    "    print(f'{assembler}')"
   ]
  },
  {
   "cell_type": "code",
   "execution_count": 22,
   "id": "defined-closure",
   "metadata": {},
   "outputs": [],
   "source": [
    "return_21 = create_callable_from_machine_code(return_21_code, restype=ctypes.c_int64)"
   ]
  },
  {
   "cell_type": "code",
   "execution_count": 23,
   "id": "destroyed-accident",
   "metadata": {},
   "outputs": [
    {
     "data": {
      "text/plain": [
       "21"
      ]
     },
     "execution_count": 23,
     "metadata": {},
     "output_type": "execute_result"
    }
   ],
   "source": [
    "return_21()"
   ]
  },
  {
   "cell_type": "code",
   "execution_count": null,
   "id": "republican-sport",
   "metadata": {},
   "outputs": [],
   "source": []
  }
 ],
 "metadata": {
  "kernelspec": {
   "display_name": "Python 3",
   "language": "python",
   "name": "python3"
  },
  "language_info": {
   "codemirror_mode": {
    "name": "ipython",
    "version": 3
   },
   "file_extension": ".py",
   "mimetype": "text/x-python",
   "name": "python",
   "nbconvert_exporter": "python",
   "pygments_lexer": "ipython3",
   "version": "3.8.5"
  }
 },
 "nbformat": 4,
 "nbformat_minor": 5
}
